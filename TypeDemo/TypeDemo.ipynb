{
 "cells": [
  {
   "cell_type": "code",
   "execution_count": 1,
   "metadata": {
    "dotnet_interactive": {
     "language": "csharp"
    },
    "polyglot_notebook": {
     "kernelName": "csharp"
    }
   },
   "outputs": [
    {
     "name": "stdout",
     "output_type": "stream",
     "text": [
      "1\r\n"
     ]
    }
   ],
   "source": [
    "using System;\n",
    "int i = 1;\n",
    "object o = i;\n",
    "Console.WriteLine(o);"
   ]
  },
  {
   "cell_type": "code",
   "execution_count": null,
   "metadata": {
    "dotnet_interactive": {
     "language": "csharp"
    },
    "polyglot_notebook": {
     "kernelName": "csharp"
    }
   },
   "outputs": [],
   "source": [
    "namespace Acme.Collections;\n",
    "\n",
    "public class Stack<T>\n",
    "{\n",
    "    Entry _top;\n",
    "\n",
    "    public void Push(T data)\n",
    "    {\n",
    "        _top = new Entry(_top, data);\n",
    "    }\n",
    "\n",
    "    public T Pop()\n",
    "    {\n",
    "        if (_top == null)\n",
    "        {\n",
    "            throw new InvalidOperationException();\n",
    "        }\n",
    "        T result = _top.Data;\n",
    "        _top = _top.Next;\n",
    "\n",
    "        return result;\n",
    "    }\n",
    "\n",
    "    class Entry\n",
    "    {\n",
    "        public Entry Next { get; set; }\n",
    "        public T Data { get; set; }\n",
    "\n",
    "        public Entry(Entry next, T data)\n",
    "        {\n",
    "            Next = next;\n",
    "            Data = data;\n",
    "        }\n",
    "    }\n",
    "}"
   ]
  }
 ],
 "metadata": {
  "kernelspec": {
   "display_name": ".NET (C#)",
   "language": "C#",
   "name": ".net-csharp"
  },
  "language_info": {
   "name": "polyglot-notebook"
  },
  "polyglot_notebook": {
   "kernelInfo": {
    "defaultKernelName": "csharp",
    "items": [
     {
      "aliases": [],
      "languageName": "csharp",
      "name": "csharp"
     }
    ]
   }
  }
 },
 "nbformat": 4,
 "nbformat_minor": 2
}
